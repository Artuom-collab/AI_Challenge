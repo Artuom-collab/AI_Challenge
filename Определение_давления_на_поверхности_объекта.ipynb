{
  "nbformat": 4,
  "nbformat_minor": 0,
  "metadata": {
    "colab": {
      "provenance": [],
      "collapsed_sections": [
        "gfpLb6KDjoHu",
        "WNrgQ7kEoD-Y"
      ],
      "authorship_tag": "ABX9TyPHHjEE2BAKt+46pFUEiT5g",
      "include_colab_link": true
    },
    "kernelspec": {
      "name": "python3",
      "display_name": "Python 3"
    },
    "language_info": {
      "name": "python"
    }
  },
  "cells": [
    {
      "cell_type": "markdown",
      "metadata": {
        "id": "view-in-github",
        "colab_type": "text"
      },
      "source": [
        "<a href=\"https://colab.research.google.com/github/ArtuomMerkulov/Hackaton-AI-Challenge/blob/main/%D0%9E%D0%BF%D1%80%D0%B5%D0%B4%D0%B5%D0%BB%D0%B5%D0%BD%D0%B8%D0%B5_%D0%B4%D0%B0%D0%B2%D0%BB%D0%B5%D0%BD%D0%B8%D1%8F_%D0%BD%D0%B0_%D0%BF%D0%BE%D0%B2%D0%B5%D1%80%D1%85%D0%BD%D0%BE%D1%81%D1%82%D0%B8_%D0%BE%D0%B1%D1%8A%D0%B5%D0%BA%D1%82%D0%B0.ipynb\" target=\"_parent\"><img src=\"https://colab.research.google.com/assets/colab-badge.svg\" alt=\"Open In Colab\"/></a>"
      ]
    },
    {
      "cell_type": "markdown",
      "source": [
        "# Импорт библиотек"
      ],
      "metadata": {
        "id": "eWYYc8afZsVn"
      }
    },
    {
      "cell_type": "code",
      "source": [
        "import pandas as pd\n",
        "import numpy as np\n",
        "import tensorflow\n",
        "from sklearn.model_selection import train_test_split\n",
        "from sklearn.metrics import mean_squared_error\n",
        "from sklearn.metrics import mean_absolute_error\n",
        "from sklearn.preprocessing import StandardScaler\n",
        "from tensorflow.keras import models, layers"
      ],
      "metadata": {
        "id": "q8uL5VGmZs91"
      },
      "execution_count": 1,
      "outputs": []
    },
    {
      "cell_type": "markdown",
      "source": [
        "## Создание модели, обучение и вывод результатов"
      ],
      "metadata": {
        "id": "DGMQ0pFlNPq4"
      }
    },
    {
      "cell_type": "code",
      "source": [
        "import os\n",
        "from tensorflow.keras import models, layers, callbacks\n",
        "from tensorflow.keras.applications import ResNet50\n",
        "from tensorflow.keras.layers import BatchNormalization\n",
        "import matplotlib.pyplot as plt\n",
        "\n",
        "# Загрузка данных\n",
        "def load_data(file_path):\n",
        "    df = pd.read_csv(file_path)\n",
        "\n",
        "    if df.empty:\n",
        "        raise ValueError(\"Empty dataframe\")\n",
        "\n",
        "    required_columns = ['X', 'Y', 'Z', 'flowVelocity', 'PressureValue']\n",
        "\n",
        "    if not set(required_columns).issubset(df.columns):\n",
        "        raise ValueError(f\"Missing required columns: {', '.join(required_columns)}\")\n",
        "\n",
        "    Xtrain = df[['X', 'Y', 'Z', 'flowVelocity']].astype(int).values\n",
        "    Ytrain = df['PressureValue'].astype(int).values\n",
        "\n",
        "    return Xtrain, Ytrain\n",
        "\n",
        "# Нормализация данных\n",
        "def normalize_data(Xtrain):\n",
        "    mean = np.mean(Xtrain, axis=0)\n",
        "    std = np.std(Xtrain, axis=0)\n",
        "    Xtrain_normalized = (Xtrain - mean) / std\n",
        "    return Xtrain_normalized, mean, std\n",
        "\n",
        "# Построение модели\n",
        "def build_model():\n",
        "    model = models.Sequential([\n",
        "        layers.Dense(1024, input_dim=4, activation='relu'),\n",
        "        layers.Dense(2048, activation='relu'),\n",
        "        layers.Dropout(0.2),\n",
        "        layers.Dense(512, activation='relu'),\n",
        "        layers.Dropout(0.2),\n",
        "        layers.Dense(256, activation='relu'),\n",
        "        layers.Dense(128, activation='relu'),\n",
        "        layers.Dropout(0.2),\n",
        "        layers.Dense(64, activation='relu'),\n",
        "        layers.Dense(32, activation='relu'),\n",
        "        layers.Dropout(0.1),\n",
        "        layers.Dense(16, activation='relu'),\n",
        "        layers.Dense(8, activation='relu'),\n",
        "        layers.Dense(4, activation='relu'),\n",
        "        layers.Dense(1, activation='linear')\n",
        "    ])\n",
        "\n",
        "    model.compile(loss='mean_squared_error', optimizer='adam')\n",
        "\n",
        "    return model\n",
        "\n",
        "# Обучение модели\n",
        "def train_model(model, Xtrain, Ytrain, epochs=25, test_size=0.25, batch_size=1024):\n",
        "    x_train, x_test, y_train, y_test = train_test_split(Xtrain, Ytrain, test_size=test_size)\n",
        "\n",
        "    history = model.fit(x_train, y_train, batch_size=batch_size, epochs=epochs, validation_data=(x_test, y_test), verbose=1, shuffle=True)\n",
        "\n",
        "    return model, history\n",
        "\n",
        "# Оценка предсказаний модели\n",
        "def evaluate_predictions(predictions, actual_values):\n",
        "    mse = mean_squared_error(actual_values, predictions)\n",
        "    mae = mean_absolute_error(actual_values, predictions)\n",
        "    print(\"MSE of the neural network:\", mse)\n",
        "    print(\"MAE of the neural network:\", mae)\n",
        "\n",
        "# График истории обучения\n",
        "def plot_history(history):\n",
        "    plt.plot(history.history['loss'])\n",
        "    plt.plot(history.history['val_loss'])\n",
        "    plt.title('Model Loss')\n",
        "    plt.ylabel('Loss')\n",
        "    plt.xlabel('Epoch')\n",
        "    plt.legend(['Train', 'Validation'], loc='upper right')\n",
        "    plt.show()\n",
        "\n",
        "# Оценка модели на новых данных\n",
        "def evaluate_model(model, X, Y):\n",
        "    predictions = model.predict(X)\n",
        "    mse = mean_squared_error(Y, predictions)\n",
        "    mae = mean_absolute_error(Y, predictions)\n",
        "    print(\"MSE of the neural network on new data:\", mse)\n",
        "    print(\"MAE of the neural network on new data:\", mae)\n",
        "\n",
        "#  Сохранение весов модели\n",
        "def save_weights(model, file_path):\n",
        "    model.save_weights(file_path)\n",
        "\n",
        "# Загрузка весов\n",
        "def load_weights(model, file_path):\n",
        "    model.load_weights(file_path)\n",
        "\n",
        "# Сводные результаты\n",
        "def summarize_results(results):\n",
        "    mean = np.mean(results)\n",
        "    std = np.std(results)\n",
        "    print(\"Mean:\", mean)\n",
        "    print(\"Standard Deviation:\", std)\n",
        "\n",
        "# Точка входа в программу\n",
        "def main():\n",
        "    file_path = os.path.join('dataLuna_2V_true.csv')\n",
        "\n",
        "    try:\n",
        "        Xtrain, Ytrain = load_data(file_path)\n",
        "\n",
        "        # Normalize input data\n",
        "        Xtrain_normalized, mean, std = normalize_data(Xtrain)\n",
        "\n",
        "        # Split data into train and test sets\n",
        "        x_train, x_test, y_train, y_test = train_test_split(Xtrain_normalized, Ytrain, test_size=0.25, random_state=42)\n",
        "\n",
        "        # Build model\n",
        "        model = build_model()\n",
        "        # Train model\n",
        "        model, history = train_model(model, x_train, y_train, epochs=25, test_size=0.25, batch_size=1024)\n",
        "\n",
        "        # Evaluate model on train set\n",
        "        predictions = model.predict(x_test)\n",
        "        evaluate_predictions(predictions, y_test)\n",
        "\n",
        "        # Plot training history\n",
        "        plot_history(history)\n",
        "\n",
        "        # Save model weights\n",
        "        save_weights(model, 'model_weights.h5')\n",
        "\n",
        "        # Load model weights\n",
        "        model.load_weights('model_weights.h5')\n",
        "\n",
        "        # Evaluate model on new data\n",
        "        evaluate_model(model, x_test, y_test)\n",
        "\n",
        "        # Summarize model results\n",
        "        summarize_results(predictions)\n",
        "\n",
        "    except FileNotFoundError:\n",
        "        print(f\"File not found: {file_path}\")\n",
        "\n",
        "    except ValueError as e:\n",
        "        print(f\"Error: {str(e)}\")\n",
        "\n",
        "if __name__ == '__main__':\n",
        "    main()\n"
      ],
      "metadata": {
        "colab": {
          "base_uri": "https://localhost:8080/",
          "height": 1000
        },
        "id": "HckYR_KTNTX7",
        "outputId": "7cd68146-b1b0-474b-8e88-7ebca3351c6e"
      },
      "execution_count": 3,
      "outputs": [
        {
          "output_type": "stream",
          "name": "stdout",
          "text": [
            "Epoch 1/25\n",
            "331/331 [==============================] - 165s 490ms/step - loss: 998219264.0000 - val_loss: 229135152.0000\n",
            "Epoch 2/25\n",
            "331/331 [==============================] - 162s 490ms/step - loss: 147633536.0000 - val_loss: 352633088.0000\n",
            "Epoch 3/25\n",
            "331/331 [==============================] - 163s 491ms/step - loss: 135223632.0000 - val_loss: 431038112.0000\n",
            "Epoch 4/25\n",
            "331/331 [==============================] - 163s 494ms/step - loss: 128879616.0000 - val_loss: 451072800.0000\n",
            "Epoch 5/25\n",
            "331/331 [==============================] - 159s 482ms/step - loss: 123917392.0000 - val_loss: 502898880.0000\n",
            "Epoch 6/25\n",
            "331/331 [==============================] - 163s 494ms/step - loss: 118231008.0000 - val_loss: 581315840.0000\n",
            "Epoch 7/25\n",
            "331/331 [==============================] - 164s 495ms/step - loss: 113632408.0000 - val_loss: 614398080.0000\n",
            "Epoch 8/25\n",
            "331/331 [==============================] - 163s 493ms/step - loss: 110851656.0000 - val_loss: 624288832.0000\n",
            "Epoch 9/25\n",
            "331/331 [==============================] - 162s 489ms/step - loss: 108110408.0000 - val_loss: 668958144.0000\n",
            "Epoch 10/25\n",
            "331/331 [==============================] - 158s 478ms/step - loss: 106874592.0000 - val_loss: 622284096.0000\n",
            "Epoch 11/25\n",
            "331/331 [==============================] - 159s 480ms/step - loss: 105255536.0000 - val_loss: 680086208.0000\n",
            "Epoch 12/25\n",
            "331/331 [==============================] - 166s 501ms/step - loss: 103659392.0000 - val_loss: 762172928.0000\n",
            "Epoch 13/25\n",
            "331/331 [==============================] - 162s 490ms/step - loss: 102789320.0000 - val_loss: 756530496.0000\n",
            "Epoch 14/25\n",
            "331/331 [==============================] - 163s 493ms/step - loss: 101765984.0000 - val_loss: 819170752.0000\n",
            "Epoch 15/25\n",
            "331/331 [==============================] - 163s 494ms/step - loss: 101216352.0000 - val_loss: 753768512.0000\n",
            "Epoch 16/25\n",
            "331/331 [==============================] - 163s 491ms/step - loss: 100387088.0000 - val_loss: 786913728.0000\n",
            "Epoch 17/25\n",
            "331/331 [==============================] - 162s 488ms/step - loss: 100985744.0000 - val_loss: 758652672.0000\n",
            "Epoch 18/25\n",
            "331/331 [==============================] - 160s 484ms/step - loss: 99927280.0000 - val_loss: 808232192.0000\n",
            "Epoch 19/25\n",
            "331/331 [==============================] - 162s 491ms/step - loss: 99754072.0000 - val_loss: 815937088.0000\n",
            "Epoch 20/25\n",
            "331/331 [==============================] - 163s 491ms/step - loss: 98859592.0000 - val_loss: 742718784.0000\n",
            "Epoch 21/25\n",
            "331/331 [==============================] - 161s 487ms/step - loss: 98954464.0000 - val_loss: 803607104.0000\n",
            "Epoch 22/25\n",
            "331/331 [==============================] - 157s 474ms/step - loss: 98982528.0000 - val_loss: 840282816.0000\n",
            "Epoch 23/25\n",
            "331/331 [==============================] - 161s 485ms/step - loss: 98450456.0000 - val_loss: 803632128.0000\n",
            "Epoch 24/25\n",
            "331/331 [==============================] - 160s 483ms/step - loss: 98954736.0000 - val_loss: 778546560.0000\n",
            "Epoch 25/25\n",
            "331/331 [==============================] - 159s 480ms/step - loss: 98148000.0000 - val_loss: 777930112.0000\n",
            "4707/4707 [==============================] - 37s 8ms/step\n",
            "MSE of the neural network: 779974606.772932\n",
            "MAE of the neural network: 26463.44877390128\n"
          ]
        },
        {
          "output_type": "display_data",
          "data": {
            "text/plain": [
              "<Figure size 640x480 with 1 Axes>"
            ],
            "image/png": "[encoded data removed]"
          },
          "metadata": {}
        },
        {
          "output_type": "stream",
          "name": "stdout",
          "text": [
            "4707/4707 [==============================] - 38s 8ms/step\n",
            "MSE of the neural network on new data: 779974606.772932\n",
            "MAE of the neural network on new data: 26463.44877390128\n",
            "Mean: 68928.47\n",
            "Standard Deviation: 3907.337\n"
          ]
        }
      ]
    }
  ]
}